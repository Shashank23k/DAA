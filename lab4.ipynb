{
 "cells": [
  {
   "cell_type": "code",
   "execution_count": 1,
   "metadata": {},
   "outputs": [
    {
     "name": "stdout",
     "output_type": "stream",
     "text": [
      "Maximum value in knapsack = 240.0\n"
     ]
    }
   ],
   "source": [
    "def fractional_knapsack(value, weight, capacity):\n",
    "    index = list(range(len(value)))\n",
    "    ratio = [v/w for v, w in zip(value, weight)]\n",
    "    index.sort(key=lambda i: ratio[i], reverse=True)\n",
    "    max_value = 0\n",
    "    for i in index:\n",
    "        if weight[i] <= capacity:\n",
    "            max_value += value[i]\n",
    "            capacity -= weight[i]\n",
    "        else:\n",
    "            max_value += value[i] * (capacity / weight[i])\n",
    "            break\n",
    "    return max_value\n",
    "\n",
    "# Example values\n",
    "values = [60, 100, 120]\n",
    "weights = [10, 20, 30]\n",
    "capacity = 50\n",
    "\n",
    "# Function call\n",
    "print(\"Maximum value in knapsack =\", fractional_knapsack(values, weights, capacity))\n"
   ]
  },
  {
   "cell_type": "code",
   "execution_count": 2,
   "metadata": {},
   "outputs": [
    {
     "name": "stdout",
     "output_type": "stream",
     "text": [
      "Maximized sum = 40\n"
     ]
    }
   ],
   "source": [
    "def maximize_array_sum(arr):\n",
    "    arr.sort()\n",
    "    return sum(x * i for i, x in enumerate(arr))\n",
    "\n",
    "# Example array\n",
    "arr = [2, 5, 3, 4, 0]\n",
    "\n",
    "# Function call\n",
    "print(\"Maximized sum =\", maximize_array_sum(arr))\n"
   ]
  },
  {
   "cell_type": "code",
   "execution_count": 3,
   "metadata": {},
   "outputs": [
    {
     "name": "stdout",
     "output_type": "stream",
     "text": [
      "Minimum sum of products = 104\n"
     ]
    }
   ],
   "source": [
    "def minimize_sum_products(a, b):\n",
    "    a.sort()\n",
    "    b.sort(reverse=True)\n",
    "    return sum(x * y for x, y in zip(a, b))\n",
    "\n",
    "# Example arrays\n",
    "array_one = [7, 5, 1, 4]\n",
    "array_two = [6, 17, 9, 3]\n",
    "\n",
    "# Function call\n",
    "print(\"Minimum sum of products =\", minimize_sum_products(array_one, array_two))\n"
   ]
  }
 ],
 "metadata": {
  "kernelspec": {
   "display_name": "Python 3",
   "language": "python",
   "name": "python3"
  },
  "language_info": {
   "codemirror_mode": {
    "name": "ipython",
    "version": 3
   },
   "file_extension": ".py",
   "mimetype": "text/x-python",
   "name": "python",
   "nbconvert_exporter": "python",
   "pygments_lexer": "ipython3",
   "version": "3.12.1"
  }
 },
 "nbformat": 4,
 "nbformat_minor": 2
}
