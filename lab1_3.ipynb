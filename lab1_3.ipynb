{
 "cells": [
  {
   "cell_type": "code",
   "execution_count": 17,
   "metadata": {},
   "outputs": [
    {
     "name": "stdout",
     "output_type": "stream",
     "text": [
      "Pair found: (3, 7)\n",
      "Pair not found\n"
     ]
    }
   ],
   "source": [
    "def find_pair(nums, target):\n",
    "    # Create an empty hash set to store the complements\n",
    "    complements = set()\n",
    "    \n",
    "    # Iterate through the array\n",
    "    for num in nums:\n",
    "        # Check if the current number's complement exists in the set\n",
    "        complement = target - num\n",
    "        if complement in complements:\n",
    "            # If found, return the pair\n",
    "            return num, complement\n",
    "        else:\n",
    "            # Otherwise, add the current number to the set\n",
    "            complements.add(num)\n",
    "    \n",
    "    # If no pair is found, return None\n",
    "    return None\n",
    "\n",
    "# Example usage:\n",
    "nums1 = [7, 2, 5, 3, 1]\n",
    "target1 = 10\n",
    "pair1 = find_pair(nums1, target1)\n",
    "if pair1:\n",
    "    print(\"Pair found:\", pair1)\n",
    "else:\n",
    "    print(\"Pair not found\")\n",
    "\n",
    "nums2 = [5, 2, 6, 8, 1, 9]\n",
    "target2 = 12\n",
    "pair2 = find_pair(nums2, target2)\n",
    "if pair2:\n",
    "    print(\"Pair found:\", pair2)\n",
    "else:\n",
    "    print(\"Pair not found\")\n",
    "\n"
   ]
  },
  {
   "cell_type": "code",
   "execution_count": 18,
   "metadata": {},
   "outputs": [
    {
     "name": "stdout",
     "output_type": "stream",
     "text": [
      "Maximum product pair: (9, 8)\n",
      "Product: 72\n"
     ]
    }
   ],
   "source": [
    "def max_product_pair(nums):\n",
    "    if len(nums) < 2:\n",
    "        return None\n",
    "    \n",
    "    # Initialize maximum and second maximum variables\n",
    "    max1 = max(nums[0], nums[1])\n",
    "    max2 = min(nums[0], nums[1])\n",
    "    \n",
    "    # Iterate through the array\n",
    "    for i in range(2, len(nums)):\n",
    "        if nums[i] > max1:\n",
    "            # If current element is greater than maximum, update maximum and second maximum\n",
    "            max2 = max1\n",
    "            max1 = nums[i]\n",
    "        elif nums[i] > max2:\n",
    "            # If current element is greater than second maximum, update second maximum\n",
    "            max2 = nums[i]\n",
    "    \n",
    "    # Return the pair with maximum product\n",
    "    return max1, max2\n",
    "\n",
    "# Example usage:\n",
    "arr = [1, 7, 4, 2,8, 6, 3, 9, 5]\n",
    "pair = max_product_pair(arr)\n",
    "if pair:\n",
    "    product = pair[0] * pair[1]\n",
    "    print(\"Maximum product pair:\", pair)\n",
    "    print(\"Product:\", product)\n",
    "else:\n",
    "    print(\"Array has less than 2 elements.\")\n"
   ]
  },
  {
   "cell_type": "code",
   "execution_count": 21,
   "metadata": {},
   "outputs": [
    {
     "name": "stdout",
     "output_type": "stream",
     "text": [
      "Input: [3, 8, 6, 7, 5, 9]\n",
      "Output: [3, 5, 6, 7, 8, 9]\n",
      "Input: [3, 5, 6, 9, 8, 7]\n",
      "Output: [3, 5, 6, 7, 8, 9]\n",
      "Input: [3, 5, 7, 6, 8, 9]\n",
      "Output: [3, 5, 7, 6, 8, 9]\n",
      "Input: [1, 2, 3, 4, 5]\n",
      "Output: [1, 2, 3, 4, 5]\n",
      "Input: [5, 4, 3, 2, 1]\n",
      "Output: [3, 4, 5, 2, 1]\n"
     ]
    }
   ],
   "source": [
    "def sort_array(nums):\n",
    "    first_out_of_order = None\n",
    "    second_out_of_order = None\n",
    "\n",
    "    # Find the positions where the elements are out of order\n",
    "    for i in range(len(nums) - 1):\n",
    "        if nums[i] > nums[i + 1]:\n",
    "            if first_out_of_order is None:\n",
    "                first_out_of_order = i\n",
    "            else:\n",
    "                second_out_of_order = i + 1\n",
    "                break\n",
    "\n",
    "    # Check if the array is already sorted or no out of order elements found\n",
    "    if first_out_of_order is not None and second_out_of_order is not None:\n",
    "        # Swap the elements at the found positions\n",
    "        nums[first_out_of_order], nums[second_out_of_order] = nums[second_out_of_order], nums[first_out_of_order]\n",
    "\n",
    "    return nums\n",
    "\n",
    "# Test cases\n",
    "test_cases = [\n",
    "    [3, 8, 6, 7, 5, 9],\n",
    "    [3, 5, 6, 9, 8, 7],\n",
    "    [3, 5, 7, 6, 8, 9],\n",
    "    [1, 2, 3, 4, 5],  # Already sorted\n",
    "    [5, 4, 3, 2, 1]   # Descending order\n",
    "]\n",
    "\n",
    "for test in test_cases:\n",
    "    print(\"Input:\", test)\n",
    "    print(\"Output:\", sort_array(test))\n"
   ]
  },
  {
   "cell_type": "code",
   "execution_count": 22,
   "metadata": {},
   "outputs": [
    {
     "name": "stdout",
     "output_type": "stream",
     "text": [
      "Input: [0, 1, 0, 1, 0, 0, 1, 1, 1, 0]\n",
      "Output: [0, 0, 0, 0, 0, 1, 1, 1, 1, 1]\n"
     ]
    }
   ],
   "source": [
    "def segregate_zeros_and_ones(arr):\n",
    "    # Initialize two pointers\n",
    "    left = 0\n",
    "    right = len(arr) - 1\n",
    "\n",
    "    while left < right:\n",
    "        # Move left pointer until it points to a 1\n",
    "        while arr[left] == 0 and left < right:\n",
    "            left += 1\n",
    "        # Move right pointer until it points to a 0\n",
    "        while arr[right] == 1 and left < right:\n",
    "            right -= 1\n",
    "        # Swap the elements pointed by the pointers\n",
    "        arr[left], arr[right] = arr[right], arr[left]\n",
    "        left += 1\n",
    "        right -= 1\n",
    "\n",
    "    return arr\n",
    "\n",
    "# Test the function\n",
    "input_arr = [0, 1, 0, 1, 0, 0, 1, 1, 1, 0]\n",
    "print(\"Input:\", input_arr)\n",
    "print(\"Output:\", segregate_zeros_and_ones(input_arr))\n"
   ]
  },
  {
   "cell_type": "code",
   "execution_count": 23,
   "metadata": {},
   "outputs": [
    {
     "name": "stdout",
     "output_type": "stream",
     "text": [
      "Input array: [10, 1, 2, 4, 13, 9, 5]\n",
      "Inversion count: 16\n"
     ]
    }
   ],
   "source": [
    "def merge(arr, left, mid, right):\n",
    "    left_part = arr[left:mid + 1]\n",
    "    right_part = arr[mid + 1:right + 1]\n",
    "\n",
    "    inv_count = 0\n",
    "    i = j = 0\n",
    "    k = left\n",
    "\n",
    "    while i < len(left_part) and j < len(right_part):\n",
    "        if left_part[i] <= right_part[j]:\n",
    "            arr[k] = left_part[i]\n",
    "            i += 1\n",
    "        else:\n",
    "            arr[k] = right_part[j]\n",
    "            j += 1\n",
    "            inv_count += (mid - i + 1)  # Count inversions\n",
    "        k += 1\n",
    "\n",
    "    while i < len(left_part):\n",
    "        arr[k] = left_part[i]\n",
    "        i += 1\n",
    "        k += 1\n",
    "\n",
    "    while j < len(right_part):\n",
    "        arr[k] = right_part[j]\n",
    "        j += 1\n",
    "        k += 1\n",
    "\n",
    "    return inv_count\n",
    "\n",
    "def merge_sort(arr, left, right):\n",
    "    inv_count = 0\n",
    "    if left < right:\n",
    "        mid = (left + right) // 2\n",
    "        inv_count += merge_sort(arr, left, mid)\n",
    "        inv_count += merge_sort(arr, mid + 1, right)\n",
    "        inv_count += merge(arr, left, mid, right)\n",
    "    return inv_count\n",
    "\n",
    "def inversion_count(arr):\n",
    "    return merge_sort(arr, 0, len(arr) - 1)\n",
    "\n",
    "# Test the function\n",
    "A = [10, 1, 2, 4, 13, 9, 5]\n",
    "print(\"Input array:\", A)\n",
    "print(\"Inversion count:\", inversion_count(A))\n"
   ]
  },
  {
   "cell_type": "code",
   "execution_count": 24,
   "metadata": {},
   "outputs": [
    {
     "name": "stdout",
     "output_type": "stream",
     "text": [
      "Does two numbers sum to K? True\n"
     ]
    }
   ],
   "source": [
    "def two_sum_sorted(arr, K):\n",
    "    arr.sort()\n",
    "    left, right = 0, len(arr) - 1\n",
    "    while left < right:\n",
    "        current_sum = arr[left] + arr[right]\n",
    "        if current_sum == K:\n",
    "            return True\n",
    "        elif current_sum < K:\n",
    "            left += 1\n",
    "        else:\n",
    "            right -= 1\n",
    "    return False\n",
    "\n",
    "# Example usage:\n",
    "arr = [8, 4, 1, 6]\n",
    "K = 10\n",
    "print(\"Does two numbers sum to K?\", two_sum_sorted(arr, K))\n"
   ]
  }
 ],
 "metadata": {
  "kernelspec": {
   "display_name": "Python 3",
   "language": "python",
   "name": "python3"
  },
  "language_info": {
   "codemirror_mode": {
    "name": "ipython",
    "version": 3
   },
   "file_extension": ".py",
   "mimetype": "text/x-python",
   "name": "python",
   "nbconvert_exporter": "python",
   "pygments_lexer": "ipython3",
   "version": "3.12.1"
  }
 },
 "nbformat": 4,
 "nbformat_minor": 2
}
